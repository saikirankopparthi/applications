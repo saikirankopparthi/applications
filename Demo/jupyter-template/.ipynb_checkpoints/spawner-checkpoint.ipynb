{
 "cells": [
  {
   "cell_type": "code",
   "execution_count": 2,
   "metadata": {},
   "outputs": [],
   "source": [
    "import requests \n",
    "import json\n",
    "\n",
    "# Enter your api key here, you can get one from https://spawner.ai\n",
    "api_key = ''"
   ]
  },
  {
   "cell_type": "code",
   "execution_count": 17,
   "metadata": {},
   "outputs": [
    {
     "data": {
      "text/plain": [
       "'pe ratio of apple'"
      ]
     },
     "execution_count": 17,
     "metadata": {},
     "output_type": "execute_result"
    }
   ],
   "source": [
    "# /clean/<question>/<token>\n",
    "text = 'pe r@aTio oF apPLe'\n",
    "\n",
    "url = \"https://spawner.ai/clean/\" + text + \"/\" + api_key\n",
    "\n",
    "response = requests.get(url)\n",
    "response.json()"
   ]
  },
  {
   "cell_type": "code",
   "execution_count": 22,
   "metadata": {},
   "outputs": [
    {
     "data": {
      "text/plain": [
       "['pe ratio', 'revenue', 'ge', 'apple']"
      ]
     },
     "execution_count": 22,
     "metadata": {},
     "output_type": "execute_result"
    }
   ],
   "source": [
    "# /understand/<question>/<token>\n",
    "question = 'what are the revenue and pe ratio of apple and ge'\n",
    "\n",
    "url = \"https://spawner.ai/understand/\" + question + \"/\" + api_key\n",
    "\n",
    "response = requests.get(url)\n",
    "response.json()"
   ]
  },
  {
   "cell_type": "code",
   "execution_count": 24,
   "metadata": {},
   "outputs": [
    {
     "data": {
      "text/plain": [
       "[{'x_axis': 'GE',\n",
       "  'chart_type': 'bar',\n",
       "  'chart_title': 'totalRevenue',\n",
       "  'condensed_data': 26238000000.0,\n",
       "  'data': 26238000000.0,\n",
       "  'text': 'The totalRevenue of General Electric Company (GE) is 26238000000.0'},\n",
       " {'x_axis': 'AAPL',\n",
       "  'chart_type': 'bar',\n",
       "  'chart_title': 'totalRevenue',\n",
       "  'condensed_data': 91722000000.0,\n",
       "  'data': 91722000000.0,\n",
       "  'text': 'The totalRevenue of Apple Inc. (AAPL) is 91722000000.0'},\n",
       " {'x_axis': 'GE',\n",
       "  'chart_type': 'bar',\n",
       "  'chart_title': 'costOfRevenue',\n",
       "  'condensed_data': 19080000000.0,\n",
       "  'data': 19080000000.0,\n",
       "  'text': 'The costOfRevenue of General Electric Company (GE) is 19080000000.0'},\n",
       " {'x_axis': 'AAPL',\n",
       "  'chart_type': 'bar',\n",
       "  'chart_title': 'costOfRevenue',\n",
       "  'condensed_data': 56773000000.0,\n",
       "  'data': 56773000000.0,\n",
       "  'text': 'The costOfRevenue of Apple Inc. (AAPL) is 56773000000.0'}]"
      ]
     },
     "execution_count": 24,
     "metadata": {},
     "output_type": "execute_result"
    }
   ],
   "source": [
    "# /answer/<question>/<token>\n",
    "question = 'what is the revenue of apple and ge'\n",
    "\n",
    "url = \"https://spawner.ai/answer/\" + question + \"/\" + api_key\n",
    "\n",
    "response = requests.get(url)\n",
    "response.json()"
   ]
  },
  {
   "cell_type": "code",
   "execution_count": 48,
   "metadata": {},
   "outputs": [
    {
     "name": "stdout",
     "output_type": "stream",
     "text": [
      "The totalRevenue of General Electric Company (GE) is 26238000000.0\n",
      "The totalRevenue of Apple Inc. (AAPL) is 91722000000.0\n",
      "The costOfRevenue of General Electric Company (GE) is 19080000000.0\n",
      "The costOfRevenue of Apple Inc. (AAPL) is 56773000000.0\n"
     ]
    }
   ],
   "source": [
    "# /answer/<question>/<token>\n",
    "question = 'what is the revenue of apple and ge'\n",
    "\n",
    "url = \"https://spawner.ai/answer/\" + question + \"/\" + api_key\n",
    "\n",
    "response = requests.get(url)\n",
    "response_text = json.loads(response.text) \n",
    "\n",
    "# replace 'text' with any field in the JSON you want to loop over.\n",
    "for i in response_text:\n",
    "    print(i['text'])"
   ]
  },
  {
   "cell_type": "code",
   "execution_count": 37,
   "metadata": {
    "scrolled": true
   },
   "outputs": [
    {
     "data": {
      "text/plain": [
       "{'expected annual return': 0.408,\n",
       " 'annual volatility': 0.263,\n",
       " 'sharpe ratio': 1.475,\n",
       " 'details': [{'ticker': 'AAPL', 'weight': 0.67379, 'shares': 210},\n",
       "  {'ticker': 'ge', 'weight': 0.0, 'shares': 0},\n",
       "  {'ticker': 'TSLA', 'weight': 0.15562, 'shares': 20},\n",
       "  {'ticker': 'goog', 'weight': 0.0, 'shares': 0},\n",
       "  {'ticker': 'amd', 'weight': 0.17059, 'shares': 343}]}"
      ]
     },
     "execution_count": 37,
     "metadata": {},
     "output_type": "execute_result"
    }
   ],
   "source": [
    "# /portfolio/<question>/<token>\n",
    "\n",
    "question = \"build portfolio with apple and ge, tesla, goog, amd\"\n",
    "\n",
    "url = \"https://spawner.ai/portfolio/\" + question + \"/\" + api_key\n",
    "\n",
    "response = requests.get(url)\n",
    "response.json()"
   ]
  },
  {
   "cell_type": "code",
   "execution_count": 44,
   "metadata": {},
   "outputs": [
    {
     "data": {
      "text/plain": [
       "{'cumulative_return': 1.51,\n",
       " 'cumulative_cagr': 0.44,\n",
       " 'cumulative_sharpe': 0.665,\n",
       " 'cumulative_calmar': 0.93,\n",
       " 'cumulative_drawdown': -0.56,\n",
       " 'details': [{'ticker': 'ge',\n",
       "   'return': -0.26,\n",
       "   'cagr': -0.13,\n",
       "   'sharpe': -0.02,\n",
       "   'calmar': -0.21,\n",
       "   'drawdown': -0.64},\n",
       "  {'ticker': 'amd',\n",
       "   'return': 3.28,\n",
       "   'cagr': 1.01,\n",
       "   'sharpe': 1.35,\n",
       "   'calmar': 2.06,\n",
       "   'drawdown': -0.49}]}"
      ]
     },
     "execution_count": 44,
     "metadata": {},
     "output_type": "execute_result"
    }
   ],
   "source": [
    "# /backtest/<start>/<end>/<tickers>/<token>\n",
    "start = '2018-01-01'\n",
    "end = '2020-02-02'\n",
    "tickers = \"ge, amd\"\n",
    "\n",
    "url = \"https://spawner.ai/backtest/\" + start + \"/\" + end + \"/\" + tickers + \"/\" + api_key\n",
    "\n",
    "response = requests.get(url)\n",
    "response.json()"
   ]
  },
  {
   "cell_type": "code",
   "execution_count": 11,
   "metadata": {},
   "outputs": [
    {
     "name": "stdout",
     "output_type": "stream",
     "text": [
      "Positive\n",
      "Negative\n"
     ]
    }
   ],
   "source": [
    "# /sentiment/<words>/<token>\n",
    "\n",
    "words = [\"With this API I will save tons of time. This API is awesome!\", \"This API is meh. I hate it.\"]\n",
    "\n",
    "for i in words: \n",
    "    url = \"https://spawner.azurewebsites.net/sentiment/\" + i + \"/\" + api_key\n",
    "\n",
    "    response = requests.get(url)\n",
    "    print(response.json())"
   ]
  },
  {
   "cell_type": "code",
   "execution_count": null,
   "metadata": {},
   "outputs": [],
   "source": []
  }
 ],
 "metadata": {
  "kernelspec": {
   "display_name": "Python 3",
   "language": "python",
   "name": "python3"
  },
  "language_info": {
   "codemirror_mode": {
    "name": "ipython",
    "version": 3
   },
   "file_extension": ".py",
   "mimetype": "text/x-python",
   "name": "python",
   "nbconvert_exporter": "python",
   "pygments_lexer": "ipython3",
   "version": "3.7.3"
  }
 },
 "nbformat": 4,
 "nbformat_minor": 2
}
