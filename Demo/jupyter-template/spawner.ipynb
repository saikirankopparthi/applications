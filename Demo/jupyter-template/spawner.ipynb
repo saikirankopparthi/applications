{
 "cells": [
  {
   "cell_type": "code",
   "execution_count": 4,
   "metadata": {},
   "outputs": [],
   "source": [
    "import requests \n",
    "import json\n",
    "\n",
    "# Enter your api key here, you can get one from https://spawner.ai\n",
    "token = 'sp_04882d062c5ec623af3af013e113640e'"
   ]
  },
  {
   "cell_type": "code",
   "execution_count": 12,
   "metadata": {},
   "outputs": [
    {
     "name": "stdout",
     "output_type": "stream",
     "text": "\"here is   dirty text \"\n"
    }
   ],
   "source": [
    "# /clean/<token>\n",
    "text = 'here is $ ? dir/ty teXt. .'\n",
    "url = 'https://spawnerapi.com/clean/' + token\n",
    "data = {'text': text}\n",
    "headers = {'Content-type': 'application/json'}\n",
    "\n",
    "x = requests.post(url, data=json.dumps(data), headers=headers)\n",
    "print(x.text)"
   ]
  },
  {
   "cell_type": "code",
   "execution_count": 13,
   "metadata": {},
   "outputs": [
    {
     "name": "stdout",
     "output_type": "stream",
     "text": "[\"phrase\", \"keywords\"]\n"
    }
   ],
   "source": [
    "# /understand/<token>\n",
    "text = 'What are the keywords in this phrase?'\n",
    "url = 'https://spawnerapi.com/understand/' + token\n",
    "data = {'text': text}\n",
    "headers = {'Content-type': 'application/json'}\n",
    "\n",
    "x = requests.post(url, data=json.dumps(data), headers=headers)\n",
    "print(x.text)"
   ]
  },
  {
   "cell_type": "code",
   "execution_count": 14,
   "metadata": {},
   "outputs": [
    {
     "name": "stdout",
     "output_type": "stream",
     "text": "[{\"x_axis\": \"AAPL\", \"chart_type\": \"bar\", \"chart_title\": \"AAPL pe ratio\", \"condensed_data\": 24.27, \"data\": 24.27, \"text\": \"The pe ratio of Apple Inc. (AAPL) is 24.27\"}, {\"x_axis\": \"AAPL\", \"chart_type\": \"bar\", \"chart_title\": \"AAPL operatingIncome\", \"condensed_data\": 25301000000.0, \"data\": 25301000000.0, \"text\": \"The operatingIncome of Apple Inc. (AAPL) is 25301000000.0\"}, {\"x_axis\": \"AAPL\", \"chart_type\": \"bar\", \"chart_title\": \"AAPL depreciation\", \"condensed_data\": 2816000000.0, \"data\": 2816000000.0, \"text\": \"The depreciation of Apple Inc. (AAPL) is 2816000000.0\"}]\n"
    }
   ],
   "source": [
    "# /answer/<token>\n",
    "text = 'What is the p/e ratio of apple?'\n",
    "url = 'https://spawnerapi.com/answer/' + token\n",
    "data = {'text': text}\n",
    "headers = {'Content-type': 'application/json'}\n",
    "\n",
    "x = requests.post(url, data=json.dumps(data), headers=headers)\n",
    "print(x.text)"
   ]
  },
  {
   "cell_type": "code",
   "execution_count": 21,
   "metadata": {},
   "outputs": [
    {
     "name": "stdout",
     "output_type": "stream",
     "text": "The pe ratio of Apple Inc. (AAPL) is 24.27\nThe operatingIncome of Apple Inc. (AAPL) is 25301000000.0\nThe depreciation of Apple Inc. (AAPL) is 2816000000.0\n"
    }
   ],
   "source": [
    "# /answer/<token>\n",
    "text = 'What is the p/e ratio of apple?'\n",
    "url = 'https://spawnerapi.com/answer/' + token\n",
    "data = {'text': text}\n",
    "headers = {'Content-type': 'application/json'}\n",
    "\n",
    "x = requests.post(url, data=json.dumps(data), headers=headers)\n",
    "y = json.loads(x.text)\n",
    "\n",
    "# replace 'text' with any field in the JSON you want to loop over.\n",
    "for i in y:\n",
    "    print(i['text'])"
   ]
  },
  {
   "cell_type": "code",
   "execution_count": 22,
   "metadata": {},
   "outputs": [
    {
     "data": {
      "text/plain": "{'expected annual return': 0.383,\n 'annual volatility': 0.323,\n 'sharpe ratio': 1.127,\n 'details': [{'ticker': 'AAPL', 'weight': 0.54724, 'shares': 196},\n  {'ticker': 'ge', 'weight': 0.0, 'shares': 0},\n  {'ticker': 'TSLA', 'weight': 0.16682, 'shares': 30},\n  {'ticker': 'goog', 'weight': 0.0, 'shares': 0},\n  {'ticker': 'amd', 'weight': 0.28594, 'shares': 651}]}"
     },
     "execution_count": 22,
     "metadata": {},
     "output_type": "execute_result"
    }
   ],
   "source": [
    "# /portfolio/<question>/<token>\n",
    "\n",
    "question = \"build portfolio with apple and ge, tesla, goog, amd\"\n",
    "\n",
    "url = \"https://spawnerapi.com/portfolio/\" + question + \"/\" + api_key\n",
    "\n",
    "response = requests.get(url)\n",
    "response.json()"
   ]
  },
  {
   "cell_type": "code",
   "execution_count": 23,
   "metadata": {},
   "outputs": [
    {
     "data": {
      "text/plain": "{'cumulative_return': 1.51,\n 'cumulative_cagr': 0.44,\n 'cumulative_sharpe': 0.665,\n 'cumulative_calmar': 0.93,\n 'cumulative_drawdown': -0.56,\n 'details': [{'ticker': 'ge',\n   'return': -0.26,\n   'cagr': -0.13,\n   'sharpe': -0.02,\n   'calmar': -0.21,\n   'drawdown': -0.64},\n  {'ticker': 'amd',\n   'return': 3.28,\n   'cagr': 1.01,\n   'sharpe': 1.35,\n   'calmar': 2.06,\n   'drawdown': -0.49}]}"
     },
     "execution_count": 23,
     "metadata": {},
     "output_type": "execute_result"
    }
   ],
   "source": [
    "# /backtest/<start>/<end>/<tickers>/<token>\n",
    "start = '2018-01-01'\n",
    "end = '2020-02-02'\n",
    "tickers = \"ge, amd\"\n",
    "\n",
    "url = \"https://spawnerapi.com/backtest/\" + start + \"/\" + end + \"/\" + tickers + \"/\" + api_key\n",
    "\n",
    "response = requests.get(url)\n",
    "response.json()"
   ]
  },
  {
   "cell_type": "code",
   "execution_count": 24,
   "metadata": {},
   "outputs": [
    {
     "name": "stdout",
     "output_type": "stream",
     "text": "\"Positive\"\n"
    }
   ],
   "source": [
    "# /sentiment/<token>\n",
    "text = 'This api is so good.'\n",
    "url = 'https://spawnerapi.com/sentiment/' + token\n",
    "data = {'text': text}\n",
    "headers = {'Content-type': 'application/json'}\n",
    "\n",
    "x = requests.post(url, data=json.dumps(data), headers=headers)\n",
    "print(x.text)"
   ]
  },
  {
   "cell_type": "code",
   "execution_count": null,
   "metadata": {},
   "outputs": [],
   "source": []
  }
 ],
 "metadata": {
  "kernelspec": {
   "display_name": "Python 3",
   "language": "python",
   "name": "python3"
  },
  "language_info": {
   "codemirror_mode": {
    "name": "ipython",
    "version": 3
   },
   "file_extension": ".py",
   "mimetype": "text/x-python",
   "name": "python",
   "nbconvert_exporter": "python",
   "pygments_lexer": "ipython3",
   "version": "3.7.3-final"
  }
 },
 "nbformat": 4,
 "nbformat_minor": 2
}